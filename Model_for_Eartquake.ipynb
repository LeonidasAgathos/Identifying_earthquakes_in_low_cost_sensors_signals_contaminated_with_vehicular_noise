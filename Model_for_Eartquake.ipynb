{
 "cells": [
  {
   "cell_type": "code",
   "execution_count": 1,
   "metadata": {},
   "outputs": [],
   "source": [
    "import pandas as pd\n",
    "import numpy as np \n",
    "import os\n",
    "import csv\n",
    "import glob\n",
    "import numpy as np\n",
    "import pandas as pd\n",
    "import matplotlib.pyplot as plt\n",
    "from sklearn.preprocessing import OneHotEncoder\n",
    "from sklearn.preprocessing import LabelEncoder\n",
    "from sklearn.model_selection import train_test_split\n",
    "from tensorflow import keras\n",
    "import tensorflow as tf\n",
    "from sklearn.model_selection import train_test_split\n",
    "from sklearn.utils import compute_class_weight\n",
    "from tensorflow.keras import layers, models\n",
    "import sklearn.metrics as metrics\n"
   ]
  },
  {
   "cell_type": "code",
   "execution_count": 2,
   "metadata": {},
   "outputs": [],
   "source": [
    "path=''\n",
    "all_files=glob.glob(path + \"/*.csv\")\n",
    "\n"
   ]
  },
  {
   "cell_type": "code",
   "execution_count": null,
   "metadata": {},
   "outputs": [],
   "source": []
  },
  {
   "cell_type": "code",
   "execution_count": null,
   "metadata": {},
   "outputs": [],
   "source": [
    "\n"
   ]
  },
  {
   "cell_type": "code",
   "execution_count": 3,
   "metadata": {},
   "outputs": [],
   "source": [
    "li=[]\n",
    "for filename in all_files:\n",
    "    df=pd.read_csv(filename,header=0)\n",
    "    min_val = df[' Value'].min()\n",
    "    max_val = df[' Value'].max()\n",
    "\n",
    "    df['NORMALIZED'] = ((df[' Value'] - min_val) / (max_val - min_val)) * 2 - 1\n",
    "    li.append(df)"
   ]
  },
  {
   "cell_type": "code",
   "execution_count": 4,
   "metadata": {},
   "outputs": [],
   "source": [
    "df=pd.concat(li,ignore_index=True)"
   ]
  },
  {
   "cell_type": "code",
   "execution_count": 6,
   "metadata": {},
   "outputs": [],
   "source": [
    "df.drop(['Timestamp'], axis=1 ,inplace=True)\n",
    "df.drop ([' Value'], axis=1 ,inplace=True)\n"
   ]
  },
  {
   "cell_type": "code",
   "execution_count": 7,
   "metadata": {},
   "outputs": [
    {
     "name": "stdout",
     "output_type": "stream",
     "text": [
      "[' noise' ' quake']\n",
      " label\n",
      " noise    9155870\n",
      " quake     112544\n",
      "Name: count, dtype: int64\n"
     ]
    }
   ],
   "source": [
    "print (df[' label'].unique())\n",
    "print (df[' label'].value_counts())"
   ]
  },
  {
   "cell_type": "code",
   "execution_count": 8,
   "metadata": {},
   "outputs": [
    {
     "data": {
      "text/html": [
       "<div>\n",
       "<style scoped>\n",
       "    .dataframe tbody tr th:only-of-type {\n",
       "        vertical-align: middle;\n",
       "    }\n",
       "\n",
       "    .dataframe tbody tr th {\n",
       "        vertical-align: top;\n",
       "    }\n",
       "\n",
       "    .dataframe thead th {\n",
       "        text-align: right;\n",
       "    }\n",
       "</style>\n",
       "<table border=\"1\" class=\"dataframe\">\n",
       "  <thead>\n",
       "    <tr style=\"text-align: right;\">\n",
       "      <th></th>\n",
       "      <th>Class</th>\n",
       "      <th>NORMALIZED</th>\n",
       "    </tr>\n",
       "  </thead>\n",
       "  <tbody>\n",
       "    <tr>\n",
       "      <th>0</th>\n",
       "      <td>noise</td>\n",
       "      <td>0.022648</td>\n",
       "    </tr>\n",
       "    <tr>\n",
       "      <th>1</th>\n",
       "      <td>noise</td>\n",
       "      <td>0.016282</td>\n",
       "    </tr>\n",
       "    <tr>\n",
       "      <th>2</th>\n",
       "      <td>noise</td>\n",
       "      <td>0.031324</td>\n",
       "    </tr>\n",
       "    <tr>\n",
       "      <th>3</th>\n",
       "      <td>noise</td>\n",
       "      <td>0.037746</td>\n",
       "    </tr>\n",
       "    <tr>\n",
       "      <th>4</th>\n",
       "      <td>noise</td>\n",
       "      <td>0.022085</td>\n",
       "    </tr>\n",
       "    <tr>\n",
       "      <th>...</th>\n",
       "      <td>...</td>\n",
       "      <td>...</td>\n",
       "    </tr>\n",
       "    <tr>\n",
       "      <th>9268409</th>\n",
       "      <td>noise</td>\n",
       "      <td>-0.039234</td>\n",
       "    </tr>\n",
       "    <tr>\n",
       "      <th>9268410</th>\n",
       "      <td>noise</td>\n",
       "      <td>-0.039289</td>\n",
       "    </tr>\n",
       "    <tr>\n",
       "      <th>9268411</th>\n",
       "      <td>noise</td>\n",
       "      <td>-0.039343</td>\n",
       "    </tr>\n",
       "    <tr>\n",
       "      <th>9268412</th>\n",
       "      <td>noise</td>\n",
       "      <td>-0.039270</td>\n",
       "    </tr>\n",
       "    <tr>\n",
       "      <th>9268413</th>\n",
       "      <td>noise</td>\n",
       "      <td>-0.039471</td>\n",
       "    </tr>\n",
       "  </tbody>\n",
       "</table>\n",
       "<p>9268414 rows × 2 columns</p>\n",
       "</div>"
      ],
      "text/plain": [
       "          Class  NORMALIZED\n",
       "0         noise    0.022648\n",
       "1         noise    0.016282\n",
       "2         noise    0.031324\n",
       "3         noise    0.037746\n",
       "4         noise    0.022085\n",
       "...         ...         ...\n",
       "9268409   noise   -0.039234\n",
       "9268410   noise   -0.039289\n",
       "9268411   noise   -0.039343\n",
       "9268412   noise   -0.039270\n",
       "9268413   noise   -0.039471\n",
       "\n",
       "[9268414 rows x 2 columns]"
      ]
     },
     "execution_count": 8,
     "metadata": {},
     "output_type": "execute_result"
    }
   ],
   "source": [
    "df.rename(columns = {' label':'Class'},inplace = True)\n",
    "df"
   ]
  },
  {
   "cell_type": "code",
   "execution_count": 9,
   "metadata": {},
   "outputs": [],
   "source": [
    "le=LabelEncoder()\n",
    "df.Class= le.fit_transform(df.Class)"
   ]
  },
  {
   "cell_type": "code",
   "execution_count": 10,
   "metadata": {},
   "outputs": [],
   "source": [
    "X=df.drop(['Class'],axis=1)\n",
    "y=df['Class']"
   ]
  },
  {
   "cell_type": "code",
   "execution_count": 12,
   "metadata": {},
   "outputs": [
    {
     "name": "stdout",
     "output_type": "stream",
     "text": [
      "Counter({0: 9155870, 1: 112544})\n",
      "Counter({0: 112544, 1: 112544})\n"
     ]
    }
   ],
   "source": [
    "import pandas as pd\n",
    "from collections import Counter\n",
    "from imblearn.under_sampling import NearMiss\n",
    "from sklearn.model_selection import train_test_split\n",
    "from sklearn.preprocessing import LabelEncoder\n",
    "\n",
    "\n",
    "# Summarize class distribution\n",
    "counter = Counter(y)\n",
    "print(counter)\n",
    "\n",
    "# Define the undersampling method\n",
    "undersample = NearMiss(version=1, n_neighbors=3)\n",
    "\n",
    "# Undersample the dataset\n",
    "X_res, y_res = undersample.fit_resample(X, y)\n",
    "\n",
    "# Summarize the new class distribution\n",
    "counter_resampled = Counter(y_res)\n",
    "print(counter_resampled)\n",
    "\n",
    "\n"
   ]
  },
  {
   "cell_type": "code",
   "execution_count": 13,
   "metadata": {},
   "outputs": [
    {
     "name": "stdout",
     "output_type": "stream",
     "text": [
      "(225088, 1)\n",
      "(225088,)\n"
     ]
    }
   ],
   "source": [
    "print (X_res.shape)\n",
    "print(y_res.shape)"
   ]
  },
  {
   "cell_type": "code",
   "execution_count": 14,
   "metadata": {},
   "outputs": [
    {
     "name": "stdout",
     "output_type": "stream",
     "text": [
      "0\n"
     ]
    }
   ],
   "source": [
    "count_greater_than_1 = (df['NORMALIZED'] > 1).sum()\n",
    "print (count_greater_than_1)\n"
   ]
  },
  {
   "cell_type": "code",
   "execution_count": 17,
   "metadata": {},
   "outputs": [],
   "source": [
    "X_train,X_test,y_train,y_test=train_test_split (X_res,y_res, test_size=0.2, random_state=42)\n"
   ]
  },
  {
   "cell_type": "code",
   "execution_count": 23,
   "metadata": {},
   "outputs": [],
   "source": [
    "model_quake = models.Sequential(name='model_quake')\n",
    "model_quake.add(layers.LSTM(64, input_shape=(X_train.shape[1], 1), return_sequences=True))\n",
    "model_quake.add(layers.Flatten())\n",
    "model_quake.add(layers.Dense(32, activation='relu'))\n",
    "model_quake.add(layers.Dense(16, activation='relu'))\n",
    "model_quake.add(layers.Dense(1, activation='sigmoid'))\n"
   ]
  },
  {
   "cell_type": "code",
   "execution_count": 24,
   "metadata": {},
   "outputs": [],
   "source": [
    "model_quake.compile(optimizer=tf.keras.optimizers.Adam(learning_rate=0.0001),\n",
    "              loss=tf.keras.losses.BinaryCrossentropy(),\n",
    "              metrics=['accuracy'])"
   ]
  },
  {
   "cell_type": "code",
   "execution_count": 25,
   "metadata": {},
   "outputs": [
    {
     "name": "stdout",
     "output_type": "stream",
     "text": [
      "Epoch 1/12\n",
      "2814/2814 [==============================] - 6s 2ms/step - loss: 0.6090 - accuracy: 0.6960\n",
      "Epoch 2/12\n",
      "2814/2814 [==============================] - 4s 2ms/step - loss: 0.5491 - accuracy: 0.7543\n",
      "Epoch 3/12\n",
      "2814/2814 [==============================] - 4s 1ms/step - loss: 0.5377 - accuracy: 0.7579\n",
      "Epoch 4/12\n",
      "2814/2814 [==============================] - 4s 1ms/step - loss: 0.5297 - accuracy: 0.7590\n",
      "Epoch 5/12\n",
      "2814/2814 [==============================] - 5s 2ms/step - loss: 0.5235 - accuracy: 0.7587\n",
      "Epoch 6/12\n",
      "2814/2814 [==============================] - 5s 2ms/step - loss: 0.5184 - accuracy: 0.7590\n",
      "Epoch 7/12\n",
      "2814/2814 [==============================] - 4s 2ms/step - loss: 0.5143 - accuracy: 0.7588\n",
      "Epoch 8/12\n",
      "2814/2814 [==============================] - 5s 2ms/step - loss: 0.5109 - accuracy: 0.7586\n",
      "Epoch 9/12\n",
      "2814/2814 [==============================] - 5s 2ms/step - loss: 0.5081 - accuracy: 0.7585\n",
      "Epoch 10/12\n",
      "2814/2814 [==============================] - 5s 2ms/step - loss: 0.5058 - accuracy: 0.7588\n",
      "Epoch 11/12\n",
      "2814/2814 [==============================] - 5s 2ms/step - loss: 0.5038 - accuracy: 0.7587\n",
      "Epoch 12/12\n",
      "2814/2814 [==============================] - 5s 2ms/step - loss: 0.5022 - accuracy: 0.7586\n",
      "1407/1407 [==============================] - 1s 819us/step\n",
      "Precision: 0.8319714581654966\n",
      "Recall: 0.6391406215463508\n",
      "F1 Score: 0.7229180729518238\n",
      "AUC Score: 0.8203914814598363\n"
     ]
    }
   ],
   "source": [
    "history=model_quake.fit(X_train, y_train, batch_size=64, epochs=12)\n",
    "\n",
    "y_pred = model_quake.predict(X_test)\n",
    "\n",
    "# Convert the predictions to binary format\n",
    "y_pred_binary = (y_pred > 0.5).astype(int)\n",
    "\n",
    "# Calculate evaluation metrics on the test set\n",
    "precision = metrics.precision_score(y_test, y_pred_binary, zero_division=0)\n",
    "recall = metrics.recall_score(y_test, y_pred_binary)\n",
    "f1_score = metrics.f1_score(y_test, y_pred_binary)\n",
    "auc_score = metrics.roc_auc_score(y_test, y_pred)\n",
    "\n",
    "print(\"Precision:\", precision)\n",
    "print(\"Recall:\", recall)\n",
    "print(\"F1 Score:\", f1_score)\n",
    "print(\"AUC Score:\", auc_score)"
   ]
  }
 ],
 "metadata": {
  "kernelspec": {
   "display_name": "base",
   "language": "python",
   "name": "python3"
  },
  "language_info": {
   "codemirror_mode": {
    "name": "ipython",
    "version": 3
   },
   "file_extension": ".py",
   "mimetype": "text/x-python",
   "name": "python",
   "nbconvert_exporter": "python",
   "pygments_lexer": "ipython3",
   "version": "3.11.4"
  },
  "orig_nbformat": 4
 },
 "nbformat": 4,
 "nbformat_minor": 2
}
