{
 "cells": [
  {
   "cell_type": "code",
   "execution_count": 4,
   "metadata": {},
   "outputs": [],
   "source": [
    "import numpy as np\n",
    "import pandas as pd\n",
    "import matplotlib.pyplot as plt\n",
    "from sklearn.preprocessing import OneHotEncoder\n",
    "from sklearn.preprocessing import LabelEncoder\n",
    "from sklearn.model_selection import train_test_split\n",
    "import tensorflow as tf\n",
    "from sklearn.preprocessing import OneHotEncoder\n",
    "from sklearn.preprocessing import LabelEncoder\n",
    "from sklearn.model_selection import train_test_split\n",
    "#from keras.utils.np_utils import to_categorical\n",
    "from sklearn import preprocessing\n",
    "import tensorflow as tf\n",
    "from sklearn.model_selection import train_test_split\n",
    "from sklearn.utils import compute_class_weight\n",
    "from tensorflow.keras import layers, models\n",
    "import sklearn.metrics as metrics"
   ]
  },
  {
   "cell_type": "code",
   "execution_count": 5,
   "metadata": {},
   "outputs": [
    {
     "name": "stderr",
     "output_type": "stream",
     "text": [
      "C:\\Users\\Leo\\AppData\\Local\\Temp\\ipykernel_15672\\2310543218.py:13: UserWarning: pandas only supports SQLAlchemy connectable (engine/connection) or database string URI or sqlite3 DBAPI2 connection. Other DBAPI2 objects are not tested. Please consider using SQLAlchemy.\n",
      "  df = pd.read_sql(query, cnxn)\n"
     ]
    },
    {
     "name": "stdout",
     "output_type": "stream",
     "text": [
      "    GEOPHONE-Z            TIMESTAMP  Class\n",
      "0    0,0042886  2023-04-04 15:00:00  noise\n",
      "1    0,0028228  2023-04-04 15:00:00  noise\n",
      "2    0,0051194  2023-04-04 15:00:00  noise\n",
      "3    0,0052139  2023-04-04 15:00:00  noise\n",
      "4     0,002509  2023-04-04 15:00:00  noise\n",
      "5    0,0033907  2023-04-04 15:00:00  noise\n",
      "6    0,0010638  2023-04-04 15:00:00  noise\n",
      "7    0,0004011  2023-04-04 15:00:00  noise\n",
      "8   -0,0015425  2023-04-04 15:00:00  noise\n",
      "9    -0,002916  2023-04-04 15:00:00  noise\n",
      "10  -0,0022521  2023-04-04 15:00:00  noise\n",
      "11  -0,0004765  2023-04-04 15:00:00  noise\n",
      "12   0,0003961  2023-04-04 15:00:00  noise\n",
      "13   0,0018307  2023-04-04 15:00:00  noise\n",
      "14   0,0018996  2023-04-04 15:00:00  noise\n",
      "15   0,0003917  2023-04-04 15:00:00  noise\n",
      "16  -0,0001697  2023-04-04 15:00:00  noise\n",
      "17  -0,0020734  2023-04-04 15:00:00  noise\n",
      "18  -0,0029513  2023-04-04 15:00:00  noise\n",
      "19  -0,0012475  2023-04-04 15:00:00  noise\n",
      "20   -0,000175  2023-04-04 15:00:00  noise\n",
      "21  -0,0006606  2023-04-04 15:00:00  noise\n",
      "22  -0,0006615  2023-04-04 15:00:00  noise\n",
      "23  -0,0010167  2023-04-04 15:00:00  noise\n",
      "24  -0,0030564  2023-04-04 15:00:00  noise\n",
      "25  -0,0047383  2023-04-04 15:00:00  noise\n"
     ]
    },
    {
     "data": {
      "text/plain": [
       "(1481189, 3)"
      ]
     },
     "execution_count": 5,
     "metadata": {},
     "output_type": "execute_result"
    }
   ],
   "source": [
    "import pyodbc\n",
    "import pandas as pd\n",
    "# Some other example server values are\n",
    "# server = 'localhost\\sqlexpress' # for a named instance\n",
    "# server = 'myserver,port' # to specify an alternate port\n",
    "server = '' \n",
    "database = '' \n",
    "username = '' \n",
    "password = ''  \n",
    "cnxn = pyodbc.connect('DRIVER={SQL Server};SERVER='+server+';DATABASE='+database+';UID='+username+';PWD='+ password)\n",
    "cursor = cnxn.cursor()\n",
    "query = \"SELECT [GEOPHONE-Z],[TIMESTAMP],[Class] FROM dbo.FINAL;\"\n",
    "df = pd.read_sql(query, cnxn)\n",
    "print(df.head(26))\n",
    "df.shape"
   ]
  },
  {
   "cell_type": "code",
   "execution_count": 10,
   "metadata": {},
   "outputs": [],
   "source": [
    "df.drop(['TIMESTAMP'], axis=1 ,inplace=True)"
   ]
  },
  {
   "cell_type": "code",
   "execution_count": 11,
   "metadata": {},
   "outputs": [],
   "source": [
    "df.rename(columns={'GEOPHONE-Z' : 'Value'},inplace=True)"
   ]
  },
  {
   "cell_type": "code",
   "execution_count": 17,
   "metadata": {},
   "outputs": [
    {
     "data": {
      "text/plain": [
       "Class\n",
       "noise    1160095\n",
       "car       321094\n",
       "Name: count, dtype: int64"
      ]
     },
     "execution_count": 17,
     "metadata": {},
     "output_type": "execute_result"
    }
   ],
   "source": [
    "df['Class'].value_counts()"
   ]
  },
  {
   "cell_type": "code",
   "execution_count": 22,
   "metadata": {},
   "outputs": [],
   "source": [
    "df['Value'] = df['Value'].str.replace(',', '.').astype('float32')\n"
   ]
  },
  {
   "cell_type": "code",
   "execution_count": 23,
   "metadata": {},
   "outputs": [],
   "source": [
    "df[\"Class\"].replace({\"noise\": 0, \"car\": 1}, inplace=True)\n"
   ]
  },
  {
   "cell_type": "code",
   "execution_count": 24,
   "metadata": {},
   "outputs": [],
   "source": [
    "min_val = df['Value'].min()\n",
    "max_val = df['Value'].max()\n",
    "\n",
    "df['NORMALIZED'] = ((df['Value'] - min_val) / (max_val - min_val)) * 2 - 1\n",
    "\n"
   ]
  },
  {
   "cell_type": "code",
   "execution_count": 26,
   "metadata": {},
   "outputs": [],
   "source": [
    "df.drop('Value', axis=1, inplace=True)"
   ]
  },
  {
   "cell_type": "code",
   "execution_count": 29,
   "metadata": {},
   "outputs": [],
   "source": [
    "X=df.drop(['Class'],axis=1)\n",
    "y=df['Class']"
   ]
  },
  {
   "cell_type": "code",
   "execution_count": 30,
   "metadata": {},
   "outputs": [
    {
     "name": "stdout",
     "output_type": "stream",
     "text": [
      "Counter({0: 1160095, 1: 321094})\n",
      "Counter({0: 321094, 1: 321094})\n"
     ]
    }
   ],
   "source": [
    "import pandas as pd\n",
    "from collections import Counter\n",
    "from imblearn.under_sampling import NearMiss\n",
    "from sklearn.model_selection import train_test_split\n",
    "from sklearn.preprocessing import LabelEncoder\n",
    "\n",
    "\n",
    "# Summarize class distribution\n",
    "counter = Counter(y)\n",
    "print(counter)\n",
    "\n",
    "# Define the undersampling method\n",
    "undersample = NearMiss(version=1, n_neighbors=3)\n",
    "\n",
    "# Undersample the dataset\n",
    "X_res, y_res = undersample.fit_resample(X, y)\n",
    "\n",
    "# Summarize the new class distribution\n",
    "counter_resampled = Counter(y_res)\n",
    "print(counter_resampled)\n"
   ]
  },
  {
   "cell_type": "code",
   "execution_count": 31,
   "metadata": {},
   "outputs": [
    {
     "name": "stdout",
     "output_type": "stream",
     "text": [
      "(642188, 1)\n",
      "(642188,)\n"
     ]
    }
   ],
   "source": [
    "print (X_res.shape)\n",
    "print(y_res.shape)"
   ]
  },
  {
   "cell_type": "code",
   "execution_count": 32,
   "metadata": {},
   "outputs": [
    {
     "data": {
      "text/html": [
       "<div>\n",
       "<style scoped>\n",
       "    .dataframe tbody tr th:only-of-type {\n",
       "        vertical-align: middle;\n",
       "    }\n",
       "\n",
       "    .dataframe tbody tr th {\n",
       "        vertical-align: top;\n",
       "    }\n",
       "\n",
       "    .dataframe thead th {\n",
       "        text-align: right;\n",
       "    }\n",
       "</style>\n",
       "<table border=\"1\" class=\"dataframe\">\n",
       "  <thead>\n",
       "    <tr style=\"text-align: right;\">\n",
       "      <th></th>\n",
       "      <th>Class</th>\n",
       "      <th>NORMALIZED</th>\n",
       "    </tr>\n",
       "  </thead>\n",
       "  <tbody>\n",
       "    <tr>\n",
       "      <th>0</th>\n",
       "      <td>0</td>\n",
       "      <td>0.312586</td>\n",
       "    </tr>\n",
       "    <tr>\n",
       "      <th>1</th>\n",
       "      <td>0</td>\n",
       "      <td>0.310151</td>\n",
       "    </tr>\n",
       "    <tr>\n",
       "      <th>2</th>\n",
       "      <td>0</td>\n",
       "      <td>0.313965</td>\n",
       "    </tr>\n",
       "    <tr>\n",
       "      <th>3</th>\n",
       "      <td>0</td>\n",
       "      <td>0.314122</td>\n",
       "    </tr>\n",
       "    <tr>\n",
       "      <th>4</th>\n",
       "      <td>0</td>\n",
       "      <td>0.309630</td>\n",
       "    </tr>\n",
       "    <tr>\n",
       "      <th>...</th>\n",
       "      <td>...</td>\n",
       "      <td>...</td>\n",
       "    </tr>\n",
       "    <tr>\n",
       "      <th>1481184</th>\n",
       "      <td>0</td>\n",
       "      <td>0.301707</td>\n",
       "    </tr>\n",
       "    <tr>\n",
       "      <th>1481185</th>\n",
       "      <td>0</td>\n",
       "      <td>0.304831</td>\n",
       "    </tr>\n",
       "    <tr>\n",
       "      <th>1481186</th>\n",
       "      <td>0</td>\n",
       "      <td>0.306744</td>\n",
       "    </tr>\n",
       "    <tr>\n",
       "      <th>1481187</th>\n",
       "      <td>0</td>\n",
       "      <td>0.309069</td>\n",
       "    </tr>\n",
       "    <tr>\n",
       "      <th>1481188</th>\n",
       "      <td>0</td>\n",
       "      <td>0.310375</td>\n",
       "    </tr>\n",
       "  </tbody>\n",
       "</table>\n",
       "<p>1481189 rows × 2 columns</p>\n",
       "</div>"
      ],
      "text/plain": [
       "         Class  NORMALIZED\n",
       "0            0    0.312586\n",
       "1            0    0.310151\n",
       "2            0    0.313965\n",
       "3            0    0.314122\n",
       "4            0    0.309630\n",
       "...        ...         ...\n",
       "1481184      0    0.301707\n",
       "1481185      0    0.304831\n",
       "1481186      0    0.306744\n",
       "1481187      0    0.309069\n",
       "1481188      0    0.310375\n",
       "\n",
       "[1481189 rows x 2 columns]"
      ]
     },
     "execution_count": 32,
     "metadata": {},
     "output_type": "execute_result"
    }
   ],
   "source": [
    "df"
   ]
  },
  {
   "cell_type": "code",
   "execution_count": 33,
   "metadata": {},
   "outputs": [
    {
     "data": {
      "text/plain": [
       "<bound method DataFrame.value_counts of          Class  NORMALIZED\n",
       "0            0    0.312586\n",
       "1            0    0.310151\n",
       "2            0    0.313965\n",
       "3            0    0.314122\n",
       "4            0    0.309630\n",
       "...        ...         ...\n",
       "1481184      0    0.301707\n",
       "1481185      0    0.304831\n",
       "1481186      0    0.306744\n",
       "1481187      0    0.309069\n",
       "1481188      0    0.310375\n",
       "\n",
       "[1481189 rows x 2 columns]>"
      ]
     },
     "execution_count": 33,
     "metadata": {},
     "output_type": "execute_result"
    }
   ],
   "source": [
    "df.value_counts"
   ]
  },
  {
   "cell_type": "code",
   "execution_count": 34,
   "metadata": {},
   "outputs": [],
   "source": [
    "X_train,X_test,y_train,y_test=train_test_split (X_res,y_res, test_size=0.2, random_state=42)\n"
   ]
  },
  {
   "cell_type": "code",
   "execution_count": 35,
   "metadata": {},
   "outputs": [],
   "source": [
    "model_car = models.Sequential(name='model_car')\n",
    "model_car.add(layers.LSTM(64, input_shape=(X_train.shape[1], 1),return_sequences=True))\n",
    "model_car.add(layers.Flatten())\n",
    "model_car.add(layers.Dense(32, activation='relu'))\n",
    "model_car.add(layers.Dense(16, activation='relu'))\n",
    "model_car.add(layers.Dense(1, activation='sigmoid'))"
   ]
  },
  {
   "cell_type": "code",
   "execution_count": 36,
   "metadata": {},
   "outputs": [],
   "source": [
    "model_car.compile(optimizer=tf.keras.optimizers.Adam(learning_rate=0.001),\n",
    "              loss=tf.keras.losses.BinaryCrossentropy(),\n",
    "              metrics=['accuracy'])"
   ]
  },
  {
   "cell_type": "code",
   "execution_count": 37,
   "metadata": {},
   "outputs": [
    {
     "name": "stdout",
     "output_type": "stream",
     "text": [
      "Epoch 1/4\n",
      "8028/8028 [==============================] - 15s 2ms/step - loss: 0.5910 - accuracy: 0.6633\n",
      "Epoch 2/4\n",
      "8028/8028 [==============================] - 13s 2ms/step - loss: 0.5734 - accuracy: 0.6845\n",
      "Epoch 3/4\n",
      "8028/8028 [==============================] - 12s 2ms/step - loss: 0.5725 - accuracy: 0.6856\n",
      "Epoch 4/4\n",
      "8028/8028 [==============================] - 12s 2ms/step - loss: 0.5717 - accuracy: 0.6867\n",
      "4014/4014 [==============================] - 3s 795us/step\n",
      "Precision: 0.7798591023607353\n",
      "Recall: 0.5191955272557851\n",
      "F1 Score: 0.6233754125566392\n",
      "AUC Score: 0.7308295540312849\n"
     ]
    }
   ],
   "source": [
    "history=model_car.fit(X_train, y_train, batch_size=64, epochs=4)\n",
    "\n",
    "y_pred = model_car.predict(X_test)\n",
    "\n",
    "# Convert the predictions to binary format\n",
    "y_pred_binary = (y_pred > 0.5).astype(int)\n",
    "\n",
    "# Calculate evaluation metrics on the test set\n",
    "precision = metrics.precision_score(y_test, y_pred_binary, zero_division=0)\n",
    "recall = metrics.recall_score(y_test, y_pred_binary)\n",
    "f1_score = metrics.f1_score(y_test, y_pred_binary)\n",
    "auc_score = metrics.roc_auc_score(y_test, y_pred)\n",
    "\n",
    "print(\"Precision:\", precision)\n",
    "print(\"Recall:\", recall)\n",
    "print(\"F1 Score:\", f1_score)\n",
    "print(\"AUC Score:\", auc_score)"
   ]
  },
  {
   "cell_type": "code",
   "execution_count": null,
   "metadata": {},
   "outputs": [],
   "source": []
  }
 ],
 "metadata": {
  "kernelspec": {
   "display_name": "base",
   "language": "python",
   "name": "python3"
  },
  "language_info": {
   "codemirror_mode": {
    "name": "ipython",
    "version": 3
   },
   "file_extension": ".py",
   "mimetype": "text/x-python",
   "name": "python",
   "nbconvert_exporter": "python",
   "pygments_lexer": "ipython3",
   "version": "3.11.4"
  },
  "orig_nbformat": 4
 },
 "nbformat": 4,
 "nbformat_minor": 2
}
